{
 "cells": [
  {
   "cell_type": "markdown",
   "id": "95801fe2",
   "metadata": {},
   "source": [
    "# Learn to Rehydrate a Tweetset\n",
    "\n",
    "This notebook is part of a [tutorial on rehydrating Twitter data](https://github.com/HYTE-research/SAGE-data-hellobrother#learn-to-rehydrate-a-tweetset)."
   ]
  },
  {
   "cell_type": "code",
   "execution_count": 47,
   "id": "eab9f22b",
   "metadata": {},
   "outputs": [],
   "source": [
    "pip install twython"
   ]
  },
  {
   "cell_type": "code",
   "execution_count": 2,
   "id": "99b5d760",
   "metadata": {},
   "outputs": [],
   "source": [
    "from twython import Twython"
   ]
  },
  {
   "cell_type": "markdown",
   "id": "23fc7d5d",
   "metadata": {},
   "source": [
    "Insert you Twitter credentials to these four variables:"
   ]
  },
  {
   "cell_type": "code",
   "execution_count": 13,
   "id": "a8fbe873",
   "metadata": {},
   "outputs": [],
   "source": [
    "api_key = 'api_key_value' \n",
    "api_secret = 'api_secret_value'\n",
    "access_token = 'access_token_value'\n",
    "access_token_secret = 'access_secret_value'"
   ]
  },
  {
   "cell_type": "markdown",
   "id": "ed5e7ee5",
   "metadata": {},
   "source": [
    "To avoid sharing the credentials with this notebook, we will read the credentials from a JSON file.\n",
    "\n",
    "To create the keychain.json file, copy keychain_template.json and rename it to keychain.json. Only run the following lines of code if you have the keychain file available."
   ]
  },
  {
   "cell_type": "code",
   "execution_count": 18,
   "id": "cf5bef96",
   "metadata": {},
   "outputs": [],
   "source": [
    "import json\n",
    "\n",
    "with open('keychain.json') as f:\n",
    "    keychain = json.load(f)\n",
    "\n",
    "api_key = keychain['API_KEY']\n",
    "api_secret = keychain['API_SECRET']\n",
    "access_token = keychain['ACCESS_TOKEN']\n",
    "access_secret = keychain['ACCESS_SECRET']"
   ]
  },
  {
   "cell_type": "markdown",
   "id": "3e3d1cc5",
   "metadata": {},
   "source": [
    "Connecting to Twitter API:"
   ]
  },
  {
   "cell_type": "code",
   "execution_count": 19,
   "id": "87511be7",
   "metadata": {},
   "outputs": [],
   "source": [
    "twitter = Twython(api_key, api_secret, access_token, access_secret)"
   ]
  },
  {
   "cell_type": "code",
   "execution_count": 20,
   "id": "102c5b11",
   "metadata": {},
   "outputs": [],
   "source": [
    "tweet = twitter.show_status(id='1106397870628847617', include_entities=True)"
   ]
  },
  {
   "cell_type": "code",
   "execution_count": 21,
   "id": "e7dd0ceb",
   "metadata": {},
   "outputs": [
    {
     "data": {
      "text/plain": [
       "{'created_at': 'Fri Mar 15 03:33:02 +0000 2019',\n",
       " 'id': 1106397870628847617,\n",
       " 'id_str': '1106397870628847617',\n",
       " 'text': 'What has happened in Christchurch is an extraordinary act of unprecedented violence. It has no place in New Zealand… https://t.co/XOHF9hHe8H',\n",
       " 'truncated': True,\n",
       " 'entities': {'hashtags': [],\n",
       "  'symbols': [],\n",
       "  'user_mentions': [],\n",
       "  'urls': [{'url': 'https://t.co/XOHF9hHe8H',\n",
       "    'expanded_url': 'https://twitter.com/i/web/status/1106397870628847617',\n",
       "    'display_url': 'twitter.com/i/web/status/1…',\n",
       "    'indices': [117, 140]}]},\n",
       " 'source': '<a href=\"http://twitter.com\" rel=\"nofollow\">Twitter Web Client</a>',\n",
       " 'in_reply_to_status_id': None,\n",
       " 'in_reply_to_status_id_str': None,\n",
       " 'in_reply_to_user_id': None,\n",
       " 'in_reply_to_user_id_str': None,\n",
       " 'in_reply_to_screen_name': None,\n",
       " 'user': {'id': 22959763,\n",
       "  'id_str': '22959763',\n",
       "  'name': 'Jacinda Ardern',\n",
       "  'screen_name': 'jacindaardern',\n",
       "  'location': 'Auckland, New Zealand',\n",
       "  'description': \"Prime Minister of NZ. Leader @nzlabour. Won't tweet what I ate for breakfast-make no promises beyond that. Authorised by Timothy Grigg 160 Willis St, Wellington\",\n",
       "  'url': 'https://t.co/XK0vnXQ2oU',\n",
       "  'entities': {'url': {'urls': [{'url': 'https://t.co/XK0vnXQ2oU',\n",
       "      'expanded_url': 'http://www.labour.org.nz',\n",
       "      'display_url': 'labour.org.nz',\n",
       "      'indices': [0, 23]}]},\n",
       "   'description': {'urls': []}},\n",
       "  'protected': False,\n",
       "  'followers_count': 787598,\n",
       "  'friends_count': 4167,\n",
       "  'listed_count': 2138,\n",
       "  'created_at': 'Thu Mar 05 18:57:11 +0000 2009',\n",
       "  'favourites_count': 655,\n",
       "  'utc_offset': None,\n",
       "  'time_zone': None,\n",
       "  'geo_enabled': True,\n",
       "  'verified': True,\n",
       "  'statuses_count': 6921,\n",
       "  'lang': None,\n",
       "  'contributors_enabled': False,\n",
       "  'is_translator': False,\n",
       "  'is_translation_enabled': False,\n",
       "  'profile_background_color': '131516',\n",
       "  'profile_background_image_url': 'http://abs.twimg.com/images/themes/theme14/bg.gif',\n",
       "  'profile_background_image_url_https': 'https://abs.twimg.com/images/themes/theme14/bg.gif',\n",
       "  'profile_background_tile': False,\n",
       "  'profile_image_url': 'http://pbs.twimg.com/profile_images/820351342464016384/_otHuDCr_normal.jpg',\n",
       "  'profile_image_url_https': 'https://pbs.twimg.com/profile_images/820351342464016384/_otHuDCr_normal.jpg',\n",
       "  'profile_banner_url': 'https://pbs.twimg.com/profile_banners/22959763/1501620205',\n",
       "  'profile_link_color': 'FF0000',\n",
       "  'profile_sidebar_border_color': 'FFFFFF',\n",
       "  'profile_sidebar_fill_color': 'F0F0F0',\n",
       "  'profile_text_color': '333333',\n",
       "  'profile_use_background_image': True,\n",
       "  'has_extended_profile': True,\n",
       "  'default_profile': False,\n",
       "  'default_profile_image': False,\n",
       "  'following': False,\n",
       "  'follow_request_sent': False,\n",
       "  'notifications': False,\n",
       "  'translator_type': 'none',\n",
       "  'withheld_in_countries': []},\n",
       " 'geo': None,\n",
       " 'coordinates': None,\n",
       " 'place': None,\n",
       " 'contributors': None,\n",
       " 'is_quote_status': False,\n",
       " 'retweet_count': 36046,\n",
       " 'favorite_count': 131347,\n",
       " 'favorited': False,\n",
       " 'retweeted': False,\n",
       " 'lang': 'en'}"
      ]
     },
     "execution_count": 21,
     "metadata": {},
     "output_type": "execute_result"
    }
   ],
   "source": [
    "tweet"
   ]
  },
  {
   "cell_type": "code",
   "execution_count": 22,
   "id": "036e17af",
   "metadata": {},
   "outputs": [
    {
     "data": {
      "text/plain": [
       "dict_keys(['created_at', 'id', 'id_str', 'text', 'truncated', 'entities', 'source', 'in_reply_to_status_id', 'in_reply_to_status_id_str', 'in_reply_to_user_id', 'in_reply_to_user_id_str', 'in_reply_to_screen_name', 'user', 'geo', 'coordinates', 'place', 'contributors', 'is_quote_status', 'retweet_count', 'favorite_count', 'favorited', 'retweeted', 'lang'])"
      ]
     },
     "execution_count": 22,
     "metadata": {},
     "output_type": "execute_result"
    }
   ],
   "source": [
    "tweet.keys()"
   ]
  },
  {
   "cell_type": "code",
   "execution_count": 48,
   "id": "bafd1864",
   "metadata": {},
   "outputs": [],
   "source": [
    "pip install twarc"
   ]
  },
  {
   "cell_type": "markdown",
   "id": "b1577a83",
   "metadata": {},
   "source": [
    "You have to confire twarc on the command line. Alternatively, you can define the four credentials as command line parameters:"
   ]
  },
  {
   "cell_type": "code",
   "execution_count": 49,
   "id": "d77827dc",
   "metadata": {},
   "outputs": [
    {
     "name": "stdout",
     "output_type": "stream",
     "text": [
      "twarc v2.7.3\r\n"
     ]
    }
   ],
   "source": [
    "!twarc --consumer_key CONSUMER_KEY --consumer_secret CONSUMER_SECRET --access_token ACCESS_TOKEN --access_token_secret ACCESS_TOKEN_SECRET version"
   ]
  },
  {
   "cell_type": "markdown",
   "id": "adb89cc3",
   "metadata": {},
   "source": [
    "As you can see, you are able to run twarc (or any command line tool) as part of the notebook by adding an exclamation mark (!) before the command."
   ]
  },
  {
   "cell_type": "markdown",
   "id": "01c9a375",
   "metadata": {},
   "source": [
    "You may have several different sets of credentials configured for twarc. In case you have only one configuration, remove <code>--profile</code> parameter and its value <code>ProfileName</code>:"
   ]
  },
  {
   "cell_type": "code",
   "execution_count": 26,
   "id": "11631d30",
   "metadata": {},
   "outputs": [],
   "source": [
    "!twarc --profile ProfileName hydrate hellobrother_idlist.txt > hellobrother_rehydrated.jsonl"
   ]
  },
  {
   "cell_type": "markdown",
   "id": "86111e0b",
   "metadata": {},
   "source": [
    "Let's use [Pandas](https://pandas.pydata.org/) to manage the rehydrated tweetset in tabular format:"
   ]
  },
  {
   "cell_type": "code",
   "execution_count": 28,
   "id": "16d9fa43",
   "metadata": {},
   "outputs": [],
   "source": [
    "import pandas as pd"
   ]
  },
  {
   "cell_type": "markdown",
   "id": "332a611a",
   "metadata": {},
   "source": [
    "Reading the data in [JSON Lines](https://jsonlines.org/) and creating a Pandas [DataFrame](https://pandas.pydata.org/docs/user_guide/dsintro.html#dataframe):"
   ]
  },
  {
   "cell_type": "code",
   "execution_count": 29,
   "id": "507c3266",
   "metadata": {},
   "outputs": [],
   "source": [
    "with open('hellobrother_rehydrated.jsonl') as f:\n",
    "    tweets_jsonl = f.read()\n",
    "    \n",
    "df_hydrated = pd.DataFrame([json.loads(jline) for jline in tweets_jsonl.splitlines()])"
   ]
  },
  {
   "cell_type": "markdown",
   "id": "fcf3a3f9",
   "metadata": {},
   "source": [
    "Exploring the DataFrame:"
   ]
  },
  {
   "cell_type": "code",
   "execution_count": 30,
   "id": "4876fcd8",
   "metadata": {},
   "outputs": [
    {
     "name": "stdout",
     "output_type": "stream",
     "text": [
      "<class 'pandas.core.frame.DataFrame'>\n",
      "RangeIndex: 25497 entries, 0 to 25496\n",
      "Data columns (total 31 columns):\n",
      " #   Column                     Non-Null Count  Dtype  \n",
      "---  ------                     --------------  -----  \n",
      " 0   created_at                 25497 non-null  object \n",
      " 1   id                         25497 non-null  int64  \n",
      " 2   id_str                     25497 non-null  object \n",
      " 3   full_text                  25497 non-null  object \n",
      " 4   truncated                  25497 non-null  bool   \n",
      " 5   display_text_range         25497 non-null  object \n",
      " 6   entities                   25497 non-null  object \n",
      " 7   source                     25497 non-null  object \n",
      " 8   in_reply_to_status_id      1731 non-null   float64\n",
      " 9   in_reply_to_status_id_str  1731 non-null   object \n",
      " 10  in_reply_to_user_id        1814 non-null   float64\n",
      " 11  in_reply_to_user_id_str    1814 non-null   object \n",
      " 12  in_reply_to_screen_name    1814 non-null   object \n",
      " 13  user                       25497 non-null  object \n",
      " 14  geo                        82 non-null     object \n",
      " 15  coordinates                82 non-null     object \n",
      " 16  place                      1317 non-null   object \n",
      " 17  contributors               0 non-null      object \n",
      " 18  is_quote_status            25497 non-null  bool   \n",
      " 19  quoted_status_id           2443 non-null   float64\n",
      " 20  quoted_status_id_str       2443 non-null   object \n",
      " 21  quoted_status_permalink    2443 non-null   object \n",
      " 22  retweet_count              25497 non-null  int64  \n",
      " 23  favorite_count             25497 non-null  int64  \n",
      " 24  favorited                  25497 non-null  bool   \n",
      " 25  retweeted                  25497 non-null  bool   \n",
      " 26  possibly_sensitive         15472 non-null  object \n",
      " 27  lang                       25497 non-null  object \n",
      " 28  quoted_status              2034 non-null   object \n",
      " 29  extended_entities          10302 non-null  object \n",
      " 30  withheld_in_countries      8 non-null      object \n",
      "dtypes: bool(4), float64(3), int64(3), object(21)\n",
      "memory usage: 5.3+ MB\n"
     ]
    }
   ],
   "source": [
    "df_hydrated.info()"
   ]
  },
  {
   "cell_type": "markdown",
   "id": "cae1ce55",
   "metadata": {},
   "source": [
    "Calculating the proportion of missing data:"
   ]
  },
  {
   "cell_type": "code",
   "execution_count": 31,
   "id": "bbc9b38d",
   "metadata": {},
   "outputs": [
    {
     "data": {
      "text/plain": [
       "58.400329828901256"
      ]
     },
     "execution_count": 31,
     "metadata": {},
     "output_type": "execute_result"
    }
   ],
   "source": [
    "len(df_hydrated.index)/43659*100"
   ]
  },
  {
   "cell_type": "markdown",
   "id": "5dc0d82a",
   "metadata": {},
   "source": [
    "Exploring hashtags:"
   ]
  },
  {
   "cell_type": "code",
   "execution_count": 37,
   "id": "e673259a",
   "metadata": {},
   "outputs": [
    {
     "data": {
      "text/plain": [
       "0                                                                                                                                                               {'hashtags': [{'text': 'christchurch', 'indices': [172, 185]}, {'text': 'hellobrother', 'indices': [186, 199]}, {'text': 'racism', 'indices': [200, 207]}], 'symbols': [], 'user_mentions': [], 'urls': [{'url': 'https://t.co/T64z4nygHZ', 'expanded_url': 'https://twitter.com/F9ata/status/1106467090373005312', 'display_url': 'twitter.com/F9ata/status/1…', 'indices': [208, 231]}]}\n",
       "1    {'hashtags': [{'text': 'Christianist', 'indices': [99, 112]}, {'text': 'Christian', 'indices': [122, 132]}, {'text': 'terrorists', 'indices': [134, 145]}, {'text': 'Muslim', 'indices': [157, 164]}, {'text': 'HelloBrother', 'indices': [223, 236]}, {'text': 'ChristchurchMosqueAttack', 'indices': [237, 262]}], 'symbols': [], 'user_mentions': [], 'urls': [{'url': 'https://t.co/S9MEptz9fw', 'expanded_url': 'https://twitter.com/IlmFeed/status/1106474343935164416', 'display_url': 'twitter.com/IlmFeed/status…', 'indices': [263, 286]}]}\n",
       "2                                                                                                                                            {'hashtags': [{'text': 'racism', 'indices': [63, 70]}, {'text': 'HelloBrother', 'indices': [227, 240]}, {'text': 'ChristchurchMosqueAttack', 'indices': [241, 266]}], 'symbols': [], 'user_mentions': [], 'urls': [{'url': 'https://t.co/GSbPpI6Ndv', 'expanded_url': 'https://twitter.com/DjiHed_SadAoui/status/1106469253975293952', 'display_url': 'twitter.com/DjiHed_SadAoui…', 'indices': [267, 290]}]}\n",
       "3                                                                                                                                                                                                                                                           {'hashtags': [{'text': 'hellobrother', 'indices': [0, 13]}], 'symbols': [], 'user_mentions': [], 'urls': [{'url': 'https://t.co/uWJUoqCx1c', 'expanded_url': 'https://twitter.com/NumanAfifi/status/1106478691675267072', 'display_url': 'twitter.com/NumanAfifi/sta…', 'indices': [43, 66]}]}\n",
       "4                                                                                                                                                                                                                                                                 {'hashtags': [{'text': 'hellobrother', 'indices': [12, 25]}, {'text': 'Christchurch', 'indices': [177, 190]}], 'symbols': [], 'user_mentions': [{'screen_name': 'NumanAfifi', 'name': 'Numan Afifi #Lawan🏴', 'id': 3139053716, 'id_str': '3139053716', 'indices': [0, 11]}], 'urls': []}\n",
       "Name: entities, dtype: object"
      ]
     },
     "execution_count": 37,
     "metadata": {},
     "output_type": "execute_result"
    }
   ],
   "source": [
    "pd.set_option('display.max_colwidth', None) # Avoid truncating cell content\n",
    "df_hydrated.entities.head()"
   ]
  },
  {
   "cell_type": "markdown",
   "id": "8e8525f2",
   "metadata": {},
   "source": [
    "Helper function for extracting hashtags:"
   ]
  },
  {
   "cell_type": "code",
   "execution_count": 39,
   "id": "2f4cd8db",
   "metadata": {},
   "outputs": [],
   "source": [
    "def extract_hashtags(entities):\n",
    "    hashtags = list()\n",
    "    \n",
    "    for hashtag in entities['hashtags']:\n",
    "        hashtags.append(hashtag['text'])\n",
    "\n",
    "    return hashtags "
   ]
  },
  {
   "cell_type": "markdown",
   "id": "75db4a15",
   "metadata": {},
   "source": [
    "Extracting hashtags with the [apply()](https://pandas.pydata.org/docs/reference/api/pandas.DataFrame.apply.html)-function:"
   ]
  },
  {
   "cell_type": "code",
   "execution_count": 41,
   "id": "4d435844",
   "metadata": {},
   "outputs": [
    {
     "data": {
      "text/plain": [
       "0                                                               [christchurch, hellobrother, racism]\n",
       "1              [Christianist, Christian, terrorists, Muslim, HelloBrother, ChristchurchMosqueAttack]\n",
       "2                                                   [racism, HelloBrother, ChristchurchMosqueAttack]\n",
       "3                                                                                     [hellobrother]\n",
       "4                                                                       [hellobrother, Christchurch]\n",
       "                                                    ...                                             \n",
       "25492                                 [RaniMukerji, HelloBrother, SalmanKhan, 20YearsOfHelloBrother]\n",
       "25493                                                                                 [HelloBrother]\n",
       "25494                                                                  [FridayFeeling, Hellobrother]\n",
       "25495                                       [ShailajareddyAlludu, hellobrother, 10YearsForChayInTFI]\n",
       "25496    [DearZindagi, IIFA, HelloBrother, RAEES, Baadshah, iifahomecoming, superfancontest, iifa20]\n",
       "Name: hashtags, Length: 25497, dtype: object"
      ]
     },
     "execution_count": 41,
     "metadata": {},
     "output_type": "execute_result"
    }
   ],
   "source": [
    "df_hydrated['hashtags'] = df_hydrated.entities.apply(extract_hashtags)\n",
    "df_hydrated.hashtags"
   ]
  },
  {
   "cell_type": "markdown",
   "id": "376301d7",
   "metadata": {},
   "source": [
    "Creating a single list of hashtag values with a helper function from [tutorial on dealing with list values in Pandas DataFrames](https://towardsdatascience.com/dealing-with-list-values-in-pandas-dataframes-a177e534f173): "
   ]
  },
  {
   "cell_type": "code",
   "execution_count": 43,
   "id": "e6cd27e3",
   "metadata": {},
   "outputs": [],
   "source": [
    "def to_1D(series):\n",
    "    return pd.Series([x.lower() for _list in series for x in _list])"
   ]
  },
  {
   "cell_type": "code",
   "execution_count": 44,
   "id": "3b7e6c34",
   "metadata": {},
   "outputs": [],
   "source": [
    "df_hashtags = pd.DataFrame(to_1D(df_hydrated.hashtags).value_counts(), columns=['count'])\n",
    "df_hashtags['hashtag'] = df_hashtags.index"
   ]
  },
  {
   "cell_type": "markdown",
   "id": "28e12db6",
   "metadata": {},
   "source": [
    "Top 10 hashtags:"
   ]
  },
  {
   "cell_type": "code",
   "execution_count": 45,
   "id": "ec61110b",
   "metadata": {},
   "outputs": [
    {
     "data": {
      "text/html": [
       "<div>\n",
       "<style scoped>\n",
       "    .dataframe tbody tr th:only-of-type {\n",
       "        vertical-align: middle;\n",
       "    }\n",
       "\n",
       "    .dataframe tbody tr th {\n",
       "        vertical-align: top;\n",
       "    }\n",
       "\n",
       "    .dataframe thead th {\n",
       "        text-align: right;\n",
       "    }\n",
       "</style>\n",
       "<table border=\"1\" class=\"dataframe\">\n",
       "  <thead>\n",
       "    <tr style=\"text-align: right;\">\n",
       "      <th></th>\n",
       "      <th>count</th>\n",
       "      <th>hashtag</th>\n",
       "    </tr>\n",
       "  </thead>\n",
       "  <tbody>\n",
       "    <tr>\n",
       "      <th>hellobrother</th>\n",
       "      <td>25851</td>\n",
       "      <td>hellobrother</td>\n",
       "    </tr>\n",
       "    <tr>\n",
       "      <th>newzealandterroristattack</th>\n",
       "      <td>3050</td>\n",
       "      <td>newzealandterroristattack</td>\n",
       "    </tr>\n",
       "    <tr>\n",
       "      <th>christchurch</th>\n",
       "      <td>2342</td>\n",
       "      <td>christchurch</td>\n",
       "    </tr>\n",
       "    <tr>\n",
       "      <th>newzealand</th>\n",
       "      <td>1827</td>\n",
       "      <td>newzealand</td>\n",
       "    </tr>\n",
       "    <tr>\n",
       "      <th>حادث_نيوزيلندا_الارهابي</th>\n",
       "      <td>996</td>\n",
       "      <td>حادث_نيوزيلندا_الارهابي</td>\n",
       "    </tr>\n",
       "    <tr>\n",
       "      <th>هجوم_نيوزلندا_الارهابي</th>\n",
       "      <td>829</td>\n",
       "      <td>هجوم_نيوزلندا_الارهابي</td>\n",
       "    </tr>\n",
       "    <tr>\n",
       "      <th>christchurchterroristattack</th>\n",
       "      <td>734</td>\n",
       "      <td>christchurchterroristattack</td>\n",
       "    </tr>\n",
       "    <tr>\n",
       "      <th>newzealandshooting</th>\n",
       "      <td>637</td>\n",
       "      <td>newzealandshooting</td>\n",
       "    </tr>\n",
       "    <tr>\n",
       "      <th>newzealandmosqueattack</th>\n",
       "      <td>556</td>\n",
       "      <td>newzealandmosqueattack</td>\n",
       "    </tr>\n",
       "    <tr>\n",
       "      <th>christchurchmosqueattack</th>\n",
       "      <td>533</td>\n",
       "      <td>christchurchmosqueattack</td>\n",
       "    </tr>\n",
       "  </tbody>\n",
       "</table>\n",
       "</div>"
      ],
      "text/plain": [
       "                             count                      hashtag\n",
       "hellobrother                 25851                 hellobrother\n",
       "newzealandterroristattack     3050    newzealandterroristattack\n",
       "christchurch                  2342                 christchurch\n",
       "newzealand                    1827                   newzealand\n",
       "حادث_نيوزيلندا_الارهابي        996      حادث_نيوزيلندا_الارهابي\n",
       "هجوم_نيوزلندا_الارهابي         829       هجوم_نيوزلندا_الارهابي\n",
       "christchurchterroristattack    734  christchurchterroristattack\n",
       "newzealandshooting             637           newzealandshooting\n",
       "newzealandmosqueattack         556       newzealandmosqueattack\n",
       "christchurchmosqueattack       533     christchurchmosqueattack"
      ]
     },
     "execution_count": 45,
     "metadata": {},
     "output_type": "execute_result"
    }
   ],
   "source": [
    "df_hashtags.head(10)"
   ]
  },
  {
   "cell_type": "markdown",
   "id": "4548cb8e",
   "metadata": {},
   "source": [
    "Top 10 hashtags as bar chart:"
   ]
  },
  {
   "cell_type": "code",
   "execution_count": 46,
   "id": "5be91d25",
   "metadata": {},
   "outputs": [
    {
     "data": {
      "text/plain": [
       "<AxesSubplot:ylabel='hashtag'>"
      ]
     },
     "execution_count": 46,
     "metadata": {},
     "output_type": "execute_result"
    },
    {
     "data": {
      "image/png": "[encoded data removed]",
      "text/plain": [
       "<Figure size 432x288 with 1 Axes>"
      ]
     },
     "metadata": {
      "needs_background": "light"
     },
     "output_type": "display_data"
    }
   ],
   "source": [
    "df_hashtags.head(10).plot.barh(y='count', x='hashtag')"
   ]
  },
  {
   "cell_type": "code",
   "execution_count": null,
   "id": "f6c7762b",
   "metadata": {},
   "outputs": [],
   "source": []
  }
 ],
 "metadata": {
  "kernelspec": {
   "display_name": "Python 3 (ipykernel)",
   "language": "python",
   "name": "python3"
  },
  "language_info": {
   "codemirror_mode": {
    "name": "ipython",
    "version": 3
   },
   "file_extension": ".py",
   "mimetype": "text/x-python",
   "name": "python",
   "nbconvert_exporter": "python",
   "pygments_lexer": "ipython3",
   "version": "3.8.5"
  }
 },
 "nbformat": 4,
 "nbformat_minor": 5
}
